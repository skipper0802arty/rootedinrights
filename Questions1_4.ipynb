{
    "cells": [
        {
            "cell_type": "markdown",
            "metadata": {
                "collapsed": true
            },
            "source": "### Introduction\n#### Mission Statement: Rooted in Rights tells authentic, accessible stories to challenge stigma and redefine narratives around disability, mental health, and chronic illness. As part of Disability Rights Washington, our Seattle-based team of disabled video producers, editors, and digital organizers partner with both local coalitions and national advocacy campaigns to fight for concrete changes for our community.  \n#### Rooted in Rights is a project of Disability Rights Washington. https://www.disabilityrightswa.org  Anna Letitia Zivarts (206) 718-8432 (206.324.1521 x242), Program Director for RootedinRights.org. https://rootedinrights.org/   \n### Business Understanding  \n#### This project will attempt to answer the following questions (numbered from the initial meeting):  \n##### 1) Number of households in Washington State where there are more people than vehicles, as a measure to show people who don't have consistent access to a car for all of their transit needs.   \n##### 4) Number or percentage of individuals in Washington State who have a disability that prevents them from driving (this would include elders). I would love to see this data broken down by county for our state.  \n### Analytic Approach  \n#### (No machine-learning algorithms required yet)  \n### Data Requirements  \n#### Answer questions 1 and 4  \n#### We're going to need relevent and applicable structured  or un-structured data in electronic form, like a database or flatfile, obtainable via online channels, that can be downloaded. The national survey of 2017 when reduced to only Washington resident respondents, does not appear to contain a sufficient sample size to answer the subject questions. "
        },
        {
            "cell_type": "markdown",
            "metadata": {},
            "source": "### Data Collection"
        },
        {
            "cell_type": "code",
            "execution_count": 2,
            "metadata": {},
            "outputs": [],
            "source": "# Import libraries\nimport pandas as pd\nimport numpy as np\nimport xlrd"
        },
        {
            "cell_type": "code",
            "execution_count": 3,
            "metadata": {},
            "outputs": [],
            "source": "# Use settings\n# pd.set_option('display.width', None)\n# print(pd.options.display.max_rows)\n# pd.set_option('display.max_rows', 40)"
        },
        {
            "cell_type": "markdown",
            "metadata": {},
            "source": "#### We're going to use the perpub.csv file only for these two questions"
        },
        {
            "cell_type": "code",
            "execution_count": 4,
            "metadata": {},
            "outputs": [],
            "source": "# Access local files\n# path_hhpub = './data/rootedinrights/hhpub.csv'\npath_perpub = './data/rootedinrights/perpub.csv'\n# path_trippub = './data/rootedinrights/trippub.csv'\n# path_vehpub = './data/rootedinrights/vehpub.csv'\n# path_nhts = './data/rootedinrights/NHTS_2009_transfer_WA.txt'\n# path_latch = './data/rootedinrights/latch_2017-b.csv'"
        },
        {
            "cell_type": "code",
            "execution_count": 5,
            "metadata": {},
            "outputs": [],
            "source": "import types\nimport pandas as pd\nfrom botocore.client import Config\nimport ibm_boto3\n\ndef __iter__(self): return 0"
        },
        {
            "cell_type": "code",
            "execution_count": 6,
            "metadata": {},
            "outputs": [],
            "source": "# The code was removed by Watson Studio for sharing."
        },
        {
            "cell_type": "code",
            "execution_count": 7,
            "metadata": {},
            "outputs": [
                {
                    "data": {
                        "text/html": "<div>\n<style scoped>\n    .dataframe tbody tr th:only-of-type {\n        vertical-align: middle;\n    }\n\n    .dataframe tbody tr th {\n        vertical-align: top;\n    }\n\n    .dataframe thead th {\n        text-align: right;\n    }\n</style>\n<table border=\"1\" class=\"dataframe\">\n  <thead>\n    <tr style=\"text-align: right;\">\n      <th></th>\n      <th>HOUSEID</th>\n      <th>PERSONID</th>\n      <th>R_AGE</th>\n      <th>EDUC</th>\n      <th>R_HISP</th>\n      <th>R_RELAT</th>\n      <th>R_SEX</th>\n      <th>R_RACE</th>\n      <th>PRMACT</th>\n      <th>PAYPROF</th>\n      <th>...</th>\n      <th>SMPLSRCE</th>\n      <th>WTPERFIN</th>\n      <th>HBHUR</th>\n      <th>HTHTNRNT</th>\n      <th>HTPPOPDN</th>\n      <th>HTRESDN</th>\n      <th>HTEEMPDN</th>\n      <th>HBHTNRNT</th>\n      <th>HBPPOPDN</th>\n      <th>HBRESDN</th>\n    </tr>\n  </thead>\n  <tbody>\n    <tr>\n      <th>0</th>\n      <td>30000007</td>\n      <td>1</td>\n      <td>67</td>\n      <td>3</td>\n      <td>2</td>\n      <td>1</td>\n      <td>2</td>\n      <td>2</td>\n      <td>6</td>\n      <td>2</td>\n      <td>...</td>\n      <td>2</td>\n      <td>206.690153</td>\n      <td>T</td>\n      <td>50</td>\n      <td>1500</td>\n      <td>750</td>\n      <td>750</td>\n      <td>20</td>\n      <td>750</td>\n      <td>300</td>\n    </tr>\n    <tr>\n      <th>1</th>\n      <td>30000007</td>\n      <td>2</td>\n      <td>66</td>\n      <td>3</td>\n      <td>2</td>\n      <td>2</td>\n      <td>1</td>\n      <td>2</td>\n      <td>1</td>\n      <td>-1</td>\n      <td>...</td>\n      <td>2</td>\n      <td>197.075742</td>\n      <td>T</td>\n      <td>50</td>\n      <td>1500</td>\n      <td>750</td>\n      <td>750</td>\n      <td>20</td>\n      <td>750</td>\n      <td>300</td>\n    </tr>\n    <tr>\n      <th>2</th>\n      <td>30000007</td>\n      <td>3</td>\n      <td>28</td>\n      <td>2</td>\n      <td>2</td>\n      <td>3</td>\n      <td>2</td>\n      <td>2</td>\n      <td>5</td>\n      <td>2</td>\n      <td>...</td>\n      <td>2</td>\n      <td>219.514210</td>\n      <td>T</td>\n      <td>50</td>\n      <td>1500</td>\n      <td>750</td>\n      <td>750</td>\n      <td>20</td>\n      <td>750</td>\n      <td>300</td>\n    </tr>\n    <tr>\n      <th>3</th>\n      <td>30000008</td>\n      <td>1</td>\n      <td>55</td>\n      <td>5</td>\n      <td>2</td>\n      <td>1</td>\n      <td>1</td>\n      <td>1</td>\n      <td>1</td>\n      <td>-1</td>\n      <td>...</td>\n      <td>2</td>\n      <td>63.185911</td>\n      <td>R</td>\n      <td>5</td>\n      <td>300</td>\n      <td>300</td>\n      <td>150</td>\n      <td>5</td>\n      <td>300</td>\n      <td>300</td>\n    </tr>\n    <tr>\n      <th>4</th>\n      <td>30000008</td>\n      <td>2</td>\n      <td>49</td>\n      <td>4</td>\n      <td>2</td>\n      <td>2</td>\n      <td>2</td>\n      <td>1</td>\n      <td>1</td>\n      <td>-1</td>\n      <td>...</td>\n      <td>2</td>\n      <td>58.665911</td>\n      <td>R</td>\n      <td>5</td>\n      <td>300</td>\n      <td>300</td>\n      <td>150</td>\n      <td>5</td>\n      <td>300</td>\n      <td>300</td>\n    </tr>\n  </tbody>\n</table>\n<p>5 rows \u00d7 121 columns</p>\n</div>",
                        "text/plain": "    HOUSEID  PERSONID  R_AGE  EDUC  R_HISP  R_RELAT  R_SEX  R_RACE  PRMACT  \\\n0  30000007         1     67     3       2        1      2       2       6   \n1  30000007         2     66     3       2        2      1       2       1   \n2  30000007         3     28     2       2        3      2       2       5   \n3  30000008         1     55     5       2        1      1       1       1   \n4  30000008         2     49     4       2        2      2       1       1   \n\n   PAYPROF  ...  SMPLSRCE    WTPERFIN  HBHUR  HTHTNRNT  HTPPOPDN  HTRESDN  \\\n0        2  ...         2  206.690153      T        50      1500      750   \n1       -1  ...         2  197.075742      T        50      1500      750   \n2        2  ...         2  219.514210      T        50      1500      750   \n3       -1  ...         2   63.185911      R         5       300      300   \n4       -1  ...         2   58.665911      R         5       300      300   \n\n   HTEEMPDN  HBHTNRNT  HBPPOPDN  HBRESDN  \n0       750        20       750      300  \n1       750        20       750      300  \n2       750        20       750      300  \n3       150         5       300      300  \n4       150         5       300      300  \n\n[5 rows x 121 columns]"
                    },
                    "execution_count": 7,
                    "metadata": {},
                    "output_type": "execute_result"
                }
            ],
            "source": "# add missing __iter__ method, so pandas accepts body as file-like object\nif not hasattr(body, \"__iter__\"): body.__iter__ = types.MethodType( __iter__, body )\n    \n# If you are reading an Excel file into a pandas DataFrame, replace `read_csv` by `read_excel` in the next statement.\ndf_perpub = pd.read_csv(body)\ndf_perpub.head()"
        },
        {
            "cell_type": "code",
            "execution_count": 8,
            "metadata": {},
            "outputs": [],
            "source": "# open a text file\n# with open(path_nhts) as file_nhts:\n#     # for line in file_nhts:\n#     #     print(line)\n#     print(file_nhts)\n# df_nhts = pd.read_csv(path_nhts, sep=None, engine='python', dtype={'geoid':np.int64, 'Cluster':np.float64})"
        },
        {
            "cell_type": "markdown",
            "metadata": {},
            "source": "### Data Understanding  \n#### Check the dataframe information"
        },
        {
            "cell_type": "code",
            "execution_count": 9,
            "metadata": {},
            "outputs": [
                {
                    "name": "stdout",
                    "output_type": "stream",
                    "text": "<class 'pandas.core.frame.DataFrame'>\nRangeIndex: 264234 entries, 0 to 264233\nColumns: 121 entries, HOUSEID to HBRESDN\ndtypes: float64(4), int64(113), object(4)\nmemory usage: 243.9+ MB\n"
                }
            ],
            "source": "# print('df_hhpub', df_hhpub.shape,'\\n', df_hhpub.head(10), '\\n')         # (129696, 58)\n# print(df_hhpub.info(memory_usage=True, null_counts=True))               # dtypes: float64(1), int64(54), object(3)\n\n# We can check to see how many null objects we have in the dataset columns as follows:\n# arenulls = df_hhpub.isnull().any() # or use .sum()\n# print(arenulls)       # There are none\n# for c in range(len(df_hhpub.columns)):\n#     c_column = df_hhpub.columns[c]\n#     print(df_hhpub[c_column].isnull().value_counts(dropna=False))       # there are none\n\n# Print the feature names in one column for easy lookup in the Codebook.pdf\n# for f in sorted(df_hhpub.columns.tolist()):\n#     print(f)\n\n# @@@@@\n# print('df_perpub', df_perpub.shape,'\\n', df_perpub.head(10), '\\n')      # (264234, 121)\ndf_perpub.info(memory_usage=True, null_counts=True)                    # dtypes: float64(4), int64(113), object(4)\n# for c in range(len(df_perpub.columns)):\n#     c_column = df_perpub.columns[c]\n#     print(df_perpub[c_column].isnull().value_counts(dropna=False))       # there are none\n# for f in sorted(df_perpub.columns.tolist()):\n#     print(f)\n\n# # @@@@@\n# print('df_trippub', df_trippub.shape,'\\n', df_trippub.head(10), '\\n')      # (923572, 105)\n# print(df_trippub.info(memory_usage=True, null_counts=True))                # dtypes: float64(4), int64(97), object(4)\n# for c in range(len(df_trippub.columns)):\n#     c_column = df_trippub.columns[c]\n#     print(df_trippub[c_column].isnull().value_counts(dropna=False))        # there are none\n# for f in sorted(df_trippub.columns.tolist()):\n#     print(f)\n# @@@@@\n# print('df_vehpub', df_vehpub.shape,'\\n', df_vehpub.head(10), '\\n')          # (256115, 54)\n# print(df_vehpub.info(memory_usage=True, null_counts=True))                # dtypes: float64(2), int64(47), object(5)\n# for c in range(len(df_vehpub.columns)):\n#     c_column = df_vehpub.columns[c]\n#     print(df_vehpub[c_column].isnull().value_counts(dropna=False))        # there are none\n# for f in sorted(df_vehpub.columns.tolist()):\n#     print(f)\n\n# @@@@@\n# print('df_nhts', df_nhts.shape,'\\n', df_nhts.head(20), '\\n')          # (1458, 116)     All the feature values after 'geoid' are NaNs. EDIT: determined that the table authors had left the 'cells' blank\n# print(df_nhts.info(memory_usage=True, null_counts=True), '\\n')                # dtypes: float64(115), int64(1)\n# for c in range(len(df_nhts.columns)):\n#     c_column = df_nhts.columns[c]\n#     print(df_nhts[c_column].isnull().value_counts(dropna=True))        # the first feature 'geoid' is all int64. Initially, all subsequent coulumns are int64 @ 1446 rows with 46 NaNs in the earliest rows 0 ~ 11\n# nhts_cols = df_nhts.columns.tolist()\n# for f in nhts_cols:\n#     print(f)\n# print(nhts_cols)\n\n# @@@@@\n# print('df_latch', df_latch.shape,'\\n', df_latch.head(20), '\\n')          # (73056, 128)\n# print(df_latch.info(memory_usage=True, null_counts=True), '\\n')          # dtypes: float64(100), int64(28)\n# for c in range(len(df_latch.columns)):\n#     c_column = df_latch.columns[c]\n#     print(df_latch[c_column].isnull().value_counts(dropna=True))        # the table has lots of NaNs"
        },
        {
            "cell_type": "markdown",
            "metadata": {},
            "source": "#### It appears that perpub.csv has 264,234 observations with 121 columns (features), and that there are 4 - float64, 113 - int64, and 4 - object dtypes "
        },
        {
            "cell_type": "markdown",
            "metadata": {},
            "source": "### Data Preparation"
        },
        {
            "cell_type": "code",
            "execution_count": 10,
            "metadata": {},
            "outputs": [],
            "source": "# Handle NaNs\n# df_nhts.dropna(inplace = True)\n# df_nhts.fillna(0, inplace=True)\n# df_nhts = df_nhts.astype({'geoid':int,'Cluster':int,'urban_group':int})\n# # Check\n# print('df_nhts', df_nhts.shape,'\\n', df_nhts.head(20), '\\n')\n# print('pct_veh_2_more' in df_nhts.columns.values)      # feature present in table: 'tot_pop'>>False, 'hh_cnt'>>False, 'hh_veh_1'>>False, 'pct_veh_1':False , 'hh_veh_2_more':False, 'pct_veh_2_more':False\n\n# @@@@@\n# print('CONDRIVE' in df_latch.columns.values)      # feature present in table: 'tot_pop'>>True, 'hh_cnt'>>True, 'hh_veh_1'>>True, 'pct_veh_1':True, 'hh_veh_2_more':True, 'pct_veh_2_more':True, 'SAMEPLC':False, 'CONDRIVE':False\n# Handle NaNs\n# df_latch.fillna(0, inplace=True)\n# Adjust dtypes\n# df_latch = df_latch.astype({'':int,'':int,'':int})\n\n# Cluster 6\n# df_latch = df_latch[['geocode','Cluster','tot_pop','hh_cnt','hh_veh_1','hh_veh_2_more','pct_veh_1','pct_veh_2_more']]     # (2052, 8)\n# Filter the table for a Cluster = 6 orientation. According to USDOT, Bureau of Transportation Statistics, latch_2017-b.csv, census regions and divisions are combined to form a sample of sufficient size\n# filter = df_latch['Cluster'] == 6\n# df_latch.where(filter, inplace=True)      # some features dtype will change when using this method\n# df_latch = df_latch[filter]\n\n# State FIP codes- 2:Alaska, 6:California, 15:Hawaii, 41:Oregon, 53:Washington\n# Extract only the observations which have a FIP = 53 in the feature 'geocode'\n# cntr = 0\n# for g in range(len(df_latch)):\n#     if str(df_latch['geocode'][g])[:2] == '53':\n#         cntr += 1\n#         print(cntr, '\\t', str(df_latch['geocode'][g])[:2])\n# filter = (df_latch['geocode'] >= 53000000000) & (df_latch['geocode'] < 54000000000)\n# df_latch = df_latch[filter]\n# df_latch.reset_index(inplace=True)\n\n# Drop the NaN rows\n# df_latch.dropna(inplace = True, how='all')\n# Check\n# print('df_latch', df_latch.shape,'\\n', df_latch, '\\n')"
        },
        {
            "cell_type": "markdown",
            "metadata": {},
            "source": "#### We're going to use several of the following columns (features) for this analysis. We have the feature name in uppercase followed by the data description, and the refering page in the table descriptive guide (1)"
        },
        {
            "cell_type": "code",
            "execution_count": 11,
            "metadata": {},
            "outputs": [],
            "source": "# @@@@@\n# R_AGE: Age. Page 40 for codes (reply of the respondents age)\n# DRVRCNT: number of drivers in household. Page 25 for codes\n# HHVEHCNT: Count of household vehicles. Page 58 for codes\n# NUMADLT: Count of adult household members at least 18 years old. Page 75/6 for codes\n# HHSIZE: Count of household members. Counts from 1 ~ 13. Page 28 for codes\n# CONDRIVE: Medical Condition Results in Giving up Driving. Page 24 for codes. \"Medical condition results in giving-up driving\" 1 = yes\n# MEDCOND: Medical condition. '01' = Yes, '02' = No. Page 36 for codes\n# CONRIDE: Medical Condition Results in Asking Others for Rides. Page 24 for codes\n# CONDSPEC: Medical Condition Results in Using Special Transportation Services. Page 24/5 for codes\n# SAMEPLC: Reason for No Trips. Refer to page 41 for codes\n# CONDTRAV: Medical condition results in reduced day-to-day travel.  'CONDTRAV' = 01/yes. Page 25 for codes.\n# ALT_23: Alternative Mode of Transportation: Passenger to Friend/Family Member or Rental Car. Page 17 for codes\n# ALT_16: Alternative mode of transportation: Public Transportation or Taxi. Page 17 for codes\n# HHSTATE: household state. Page 28/9 for codes\n# HHSTFIPS: State FIPS for household address. 53 = Washington state. Page 58 for codes\n\n# Not used\n# CENSUS_D: 2010 Census division classification for the respondent's home address. Page 53 for codes\n# CENSUS_R: Census region classification for home address. Page 53 for codes\n# HBHUR: Urban / Rural indicator - Block group. Page 54 for codes\n\n# At a confidence level of 95% and a confidence interval (margin of error) of +/-3, the smallest sample size is 1067 for  a population of 7,500,000. This assumes, of course, that the sample is genuinely random.\n# Source calculator: https://www.surveysystem.com/sscalc.htm"
        },
        {
            "cell_type": "markdown",
            "metadata": {},
            "source": "#### Extract the Washington state respondents from the national survey"
        },
        {
            "cell_type": "code",
            "execution_count": 12,
            "metadata": {},
            "outputs": [],
            "source": "# Use settings\npd.set_option('display.width', None)\npd.set_option('display.max_rows', 10)"
        },
        {
            "cell_type": "code",
            "execution_count": 13,
            "metadata": {},
            "outputs": [
                {
                    "name": "stdout",
                    "output_type": "stream",
                    "text": "df_perpub_WA (1326, 15) \n       R_AGE  DRVRCNT  HHVEHCNT  NUMADLT  HHSIZE  CONDRIVE  MEDCOND  CONDRIDE  \\\n0        92        3         3        3       6         2        2         2   \n1        42        3         3        3       6        -1        2        -1   \n2        40        3         3        3       6        -1        2        -1   \n3        15        3         3        3       6        -1        2        -1   \n4         7        3         3        3       6        -1        2        -1   \n...     ...      ...       ...      ...     ...       ...      ...       ...   \n1321     62        3         3        3       3        -1        2        -1   \n1322     63        3         3        3       3        -1        2        -1   \n1323     32        3         3        3       3        -1        2        -1   \n1324     60        1         1        1       1        -1        2        -1   \n1325     59        1         2        1       1        -1        2        -1   \n\n      CONDSPEC  SAMEPLC  CONDTRAV  ALT_23  ALT_16 HHSTATE  HHSTFIPS  \n0            2       -1         2      -1      -1      WA        53  \n1           -1       -1        -1       1       4      WA        53  \n2           -1       -1        -1      -1      -1      WA        53  \n3           -1       -1        -1      -1      -1      WA        53  \n4           -1        7        -1      -1      -1      WA        53  \n...        ...      ...       ...     ...     ...     ...       ...  \n1321        -1       -1        -1       1       1      WA        53  \n1322        -1       -1        -1       1       3      WA        53  \n1323        -1       -1        -1       1       1      WA        53  \n1324        -1       -1        -1       4       4      WA        53  \n1325        -1       -1        -1       1       3      WA        53  \n\n[1326 rows x 15 columns] \n\n"
                }
            ],
            "source": "condition = df_perpub['HHSTATE'] == 'WA'\ndf_perpub_WA = df_perpub[condition]\ndf_perpub_WA = df_perpub_WA[['R_AGE','DRVRCNT','HHVEHCNT','NUMADLT','HHSIZE','CONDRIVE', 'MEDCOND', 'CONDRIDE','CONDSPEC','SAMEPLC','CONDTRAV','ALT_23','ALT_16','HHSTATE','HHSTFIPS']]\ndf_perpub_WA.reset_index(inplace=True)\ndf_perpub_WA.drop(['index'], axis=1, inplace=True)\n# Check\nprint('df_perpub_WA', df_perpub_WA.shape,'\\n', df_perpub_WA, '\\n')      # (1326, # of columns)"
        },
        {
            "cell_type": "markdown",
            "metadata": {},
            "source": "#### We now see that the sample segment from Washington state is only 1326 respondents described by 15 columns (features)"
        },
        {
            "cell_type": "markdown",
            "metadata": {},
            "source": "#### Let's extract some count and percentile information about the national-level survey"
        },
        {
            "cell_type": "code",
            "execution_count": 14,
            "metadata": {},
            "outputs": [
                {
                    "name": "stdout",
                    "output_type": "stream",
                    "text": "From the national-level survey sample of (264234):\n\n3913 respondents (1.48%) say that they are disabled or are home-bound\n25181 respondents (9.53%) stated that they have a medical condition\n6806 respondents (2.58%) stated that they've given-up driving due to their medical condition.\n21028 respondents (7.96%) stated that their medical condition reduces day-to-day travel.\n\nThe sum of travel-related medical condition/disabilities nationwide is: 21.54%\n"
                }
            ],
            "source": "# @@@@\npeople_count_perpub = len(df_perpub)\nprint(f\"From the national-level survey sample of ({people_count_perpub}):\\n\")\n# Determine the segment count and percentage of national-level respondents who answered \"reason for no trips\" as \"04 - Disabled or home-bound\"\n\ndisabled = 0\nfor pc in df_perpub['SAMEPLC']:\n    # '04' means the respondent is disabled or is homebound\n    if pc == 4:\n        disabled += 1\n\nprint(f\"{disabled} respondents ({disabled/people_count_perpub*100:.2f}%) say that they are disabled or are home-bound\")\n\n# Determine the segment count and percentage of people who have a medical condition\nhaveMedCond_natl_count = 0\nfor h in df_perpub['MEDCOND']:\n    # Check value\n    # print(h)\n    # 1 means the respondent has a medical condtion\n    if h == 1:\n        haveMedCond_natl_count += 1\n\nprint(f\"{haveMedCond_natl_count} respondents ({haveMedCond_natl_count/people_count_perpub*100:.2f}%) stated that they have a medical condition\")\n\n# Determine the segment count and percentage of people who have given-up driving due to medical condition\nnodrive_natl_count = 0\n# drive_count = 0\nfor p in df_perpub['CONDRIVE']:\n    # Check value\n    # print(p)\n    # 1 means 'have given up driving'\n    if p == 1:\n        nodrive_natl_count += 1\n\nprint(f\"{nodrive_natl_count} respondents ({nodrive_natl_count/people_count_perpub*100:.2f}%) stated that they've given-up driving due to their medical condition.\")\n\n# Determine the segment count and percentage of people who have \"Medical Condition Results in Reduced Day-to-Day Travel\"\nreduced_travel_count = 0\nfor r in df_perpub['CONDTRAV']:\n    # Check value\n    # 1 means 'yes,' medical condition reduces day-to-day travel\n    if r == 1:\n        reduced_travel_count += 1\n        \nprint(f\"{reduced_travel_count} respondents ({reduced_travel_count/people_count_perpub*100:.2f}%) stated that their medical condition reduces day-to-day travel.\\n\")\nprint(f\"The sum of travel-related medical condition/disabilities nationwide is: {(disabled + haveMedCond_natl_count + nodrive_natl_count + reduced_travel_count)/people_count_perpub*100:.2f}%\")"
        },
        {
            "cell_type": "markdown",
            "metadata": {},
            "source": "#### Let's compare the summary information above to the Washington segment sample below.  "
        },
        {
            "cell_type": "code",
            "execution_count": 15,
            "metadata": {},
            "outputs": [
                {
                    "name": "stdout",
                    "output_type": "stream",
                    "text": "From the Washington state survey segment of (1326):\n\n13 (0.98%) of respondents say that they are disabled or are home-bound [SAMEPLC = 4]\n113 respondents (8.52%) stated that they have a medical condition [MEDCOND = 1]\n30 respondents (2.26%) stated that they've given-up driving due to their medical condition [CONDRIVE = 1]\n96 respondents (7.24%) stated that their medical condition reduces day-to-day travel [CONDTRAV = 1]\n\nThe sum of travel-related medical condition/disabilities in Washington state is: 19.00%\n"
                }
            ],
            "source": "# @@@@\npeople_count = len(df_perpub_WA)\n# print(people_count)\nprint(f\"From the Washington state survey segment of ({people_count}):\\n\")\n\n# Determine the segment count and percentage of people in WA who answered \"reason for no trips\" as \"04 - Disabled or home-bound\"\nhomebound = 0\nfor hb in df_perpub_WA['SAMEPLC']:\n    # '04' means the respondent is disabled or is homebound\n    if hb == 4:\n        homebound += 1\n\nprint(f\"{homebound} ({homebound/people_count*100:.2f}%) of respondents say that they are disabled or are home-bound [SAMEPLC = 4]\")\n\n# Determine the segment count and percentage of people in WA who have a medical condition\nhaveMedCond_count = 0\nfor h in df_perpub_WA['MEDCOND']:\n    # Check value\n    # print(h)\n    # 1 means the respondent has a medical condtion\n    if h == 1:\n        haveMedCond_count += 1\n\nprint(f\"{haveMedCond_count} respondents ({haveMedCond_count/people_count*100:.2f}%) stated that they have a medical condition [MEDCOND = 1]\")\n\n# Determine the segment count and percentage of people in WA who have given-up driving due to medical condition\nnodrive_count = 0\n# drive_count = 0\nfor p in df_perpub_WA['CONDRIVE']:\n    # Check value\n    # print(p)\n    # 1 means 'have given up driving'\n    if p == 1:\n        nodrive_count += 1\n\nprint(f\"{nodrive_count} respondents ({nodrive_count/people_count*100:.2f}%) stated that they've given-up driving due to their medical condition [CONDRIVE = 1]\")\n\n# Determine the segment count and percentage of people in WA who have \"Medical Condition Results in Reduced Day-to-Day Travel\"\nreduced_travel_WA_count = 0\nfor r in df_perpub_WA['CONDTRAV']:\n    # Check value\n    # 1 means 'yes,' medical condition reduces day-to-day travel\n    if r == 1:\n        reduced_travel_WA_count += 1\n        \nprint(f\"{reduced_travel_WA_count} respondents ({reduced_travel_WA_count/people_count*100:.2f}%) stated that their medical condition reduces day-to-day travel [CONDTRAV = 1]\\n\")\nprint(f\"The sum of travel-related medical condition/disabilities in Washington state is: {(homebound + haveMedCond_count + nodrive_count + reduced_travel_WA_count)/people_count*100:.2f}%\")"
        },
        {
            "cell_type": "markdown",
            "metadata": {},
            "source": "#### The Travel Patterns of American Adults with Disabilities Report (4) stated:  \n> \"...people with disabilities simply travel less often:\n    > * Reducing day-to-day travel (70.6 percent)\n    > * Giving up driving (21.6 percent)\n    > * Using public transit less often (14.4 percent)  \n    \n#### Using the national-level data we see that 6808 (2.58%) respondents have given-up driving due to their medical condition. The Washington segment shows that 30 (2.26%) of respondents have reported the same; these percentiles are roughly similar. Given these percentiles it would appear that the Washington segment is not too different from the national segment. However, between the two reports there appears to be a large difference in the \"given-up driving\" category. Ms. Stephanie Lawrence (Bureau of Transportation Statistics) reponded to this very question:\n\n#### S. Lawrence,  (personal communication, December 30, 2019) advises a cautionary note concerning the BTS Travel Patterns of American Adults with Disabilities Report:\n> \"One thing I would caution is that State-level estimates of travel by people with disabilities are unreliable due to small sample sizes and large standard errors from the NHTS. Using the Census region (CENSUS_R) will yield more usable estimates, although I suspect they won\u2019t differ much from national estimates.  \nThe \u201c21.6 percent\u201d of people who give up driving is \u201c21.6 percent of people age 18\u201364 who have a travel-limiting disability,\u201d which likely explains the discrepancy. In addition, the NHTS asks the CONDTRAV question to everyone 80 or older\u2014whether or not they report having a disability\u2014as well as others who report having a disability. This fact isn\u2019t apparent from the codebook, but appears in the questionnaire at https://nhts.ornl.gov/assets/2016/NHTS_Retrieval_Instrument_20180228.pdf \"  \n\n#### Because the usage of column features such as HHSTATE, CENSUS_R, HHSTFIPS allows us to separate Washington-specific information from the national counts and draw us closer toward our answer, they still do not provide a firm basis for inference to our state population. Perhaps then, we should approach the usage of these percentiles with a grain-of-salt until proper data is available. That is to say, Washington-specific survey information, since our ability to produce an appropriate geographic sample size is limited."
        },
        {
            "cell_type": "markdown",
            "metadata": {},
            "source": "#### Nonetheless, lets learn a bit more about the household situation of the people who have given-up driving because of their medical condition based on the data we have."
        },
        {
            "cell_type": "code",
            "execution_count": 16,
            "metadata": {},
            "outputs": [
                {
                    "name": "stdout",
                    "output_type": "stream",
                    "text": "This group of 30 respondents had the following count of adults and household size distributions (number of people total in household):\n    1 adult: 8 (26.67%) instances. 8 (100.00%) households with 1 person\n    2 adults: 15 (50.00%) instances. 13 (86.67%) households with 2 people, 1 (6.67%) household with 4 people, 1 (6.67%) household with 6 people\n    3 adults: 7 (23.33%) instances. 6 (85.71%) households with 3 people, 1 (14.29%) household with 5 people\n"
                }
            ],
            "source": "# Specifically, the number of drivers in the household\ncondition1 = df_perpub_WA['CONDRIVE'] == 1\ndf_condrive = df_perpub_WA[condition1]\ndf_condrive.index = pd.RangeIndex(len(df_condrive.index))\n# print('df_condrive', df_condrive.shape,'\\n', df_condrive, '\\n')      # (30, # of columns)\n\nnodrive_hh_adult_counttypes = df_condrive['NUMADLT'].unique()\n# print(nodrive_hh_adult_counttypes)\nadult_count_1 = 0\nadult_count_2 = 0\nadult_count_3 = 0\n\nlist_size = df_condrive['HHSIZE'].unique()\n# print(list_size)\nnodrive_hhsize = dict((el,0) for el in list_size)\nadult_1_hhsize = dict((el,0) for el in list_size)\nadult_2_hhsize = dict((el,0) for el in list_size)\nadult_3_hhsize = dict((el,0) for el in list_size)\n# print(nodrive_hhsize)\n\n# convert this loop to use index and range instead of value\nfor idx in range(len(df_condrive)):\n    # print(adult)\n    if 1 == df_condrive['NUMADLT'][idx]:\n        adult_count_1 += 1\n        # Update 'adult_1_hhsize' dictionary for the HHSIZE count\n        if df_condrive['HHSIZE'][idx] in list_size:\n            adult_1_hhsize[df_condrive['HHSIZE'][idx]] += 1\n    elif 2 == df_condrive['NUMADLT'][idx]:\n        adult_count_2 += 1\n        # Update 'adult_2_hhsize' dictionary for the HHSIZE count\n        if df_condrive['HHSIZE'][idx] in list_size:\n            adult_2_hhsize[df_condrive['HHSIZE'][idx]] += 1\n    elif 3 == df_condrive['NUMADLT'][idx]:\n        adult_count_3 += 1\n        # Update 'adult_3_hhsize' dictionary for the HHSIZE count\n        if df_condrive['HHSIZE'][idx] in list_size:\n            adult_3_hhsize[df_condrive['HHSIZE'][idx]] += 1\n\n# Delete the zero-value pairs in the dictionaries\nadult_1_hhsize = {k:v for k,v in adult_1_hhsize.items() if v}       # {1: 8}\nadult_2_hhsize = {k:v for k,v in adult_2_hhsize.items() if v}       # {2: 13, 6: 1, 4: 1}\nadult_3_hhsize = {k:v for k,v in adult_3_hhsize.items() if v}       # {3: 6, 5: 1}      ({/*100:.2f}%)\n\n# print('\\n', adult_1_hhsize, '\\n', adult_2_hhsize, '\\n', adult_3_hhsize, '\\n')\n\nprint(f\"This group of 30 respondents had the following count of adults and household size distributions (number of people total in household):\\n\\\n    1 adult: {adult_count_1} ({adult_count_1/nodrive_count*100:.2f}%) instances. {adult_1_hhsize[1]} ({adult_1_hhsize[1]/adult_count_1*100:.2f}%) households with {[key for key in adult_1_hhsize.keys()][0]} person\\n\\\n\\\n    2 adults: {adult_count_2} ({adult_count_2/nodrive_count*100:.2f}%) instances. {adult_2_hhsize[2]} ({adult_2_hhsize[2]/adult_count_2*100:.2f}%) households with {[key for key in adult_2_hhsize.keys()][0]} people, {adult_2_hhsize[4]} ({adult_2_hhsize[4]/adult_count_2*100:.2f}%) household with {[key for key in adult_2_hhsize.keys()][2]} people, {adult_2_hhsize[6]} ({adult_2_hhsize[4]/adult_count_2*100:.2f}%) household with {[key for key in adult_2_hhsize.keys()][1]} people\\n\\\n\\\n    3 adults: {adult_count_3} ({adult_count_3/nodrive_count*100:.2f}%) instances. {adult_3_hhsize[3]} ({adult_3_hhsize[3]/adult_count_3*100:.2f}%) households with {[key for key in adult_3_hhsize.keys()][0]} people, {adult_3_hhsize[5]} ({adult_3_hhsize[5]/adult_count_3*100:.2f}%) household with {[key for key in adult_3_hhsize.keys()][1]} people\")"
        },
        {
            "cell_type": "markdown",
            "metadata": {},
            "source": "### References\n1. U.S. Department of Transportation, Federal Highway Administration, 2017 National Household Travel Survey Users Guide: https://nhts.ornl.gov/assets/NHTS2017_UsersGuide_04232019_1.pdf  \n2. 2017 National Household Travel Survey Codebook: https://nhts.ornl.gov/assets/codebook_v1.1.pdf  \n3. National Household Travel Survey: https://nhts.ornl.gov  \n4. U.S. Department of Transportation, Bureau of Transportation Statistics, Travel Patterns of American Adults with Disabilities. https://www.bts.gov/sites/bts.dot.gov/files/docs/explore-topics-and-geography/topics/passenger-travel/222466/travel-patterns-american-adults-disabilities-11-26-19.pdf"
        },
        {
            "cell_type": "code",
            "execution_count": null,
            "metadata": {},
            "outputs": [],
            "source": ""
        }
    ],
    "metadata": {
        "kernelspec": {
            "display_name": "Python 3.6",
            "language": "python",
            "name": "python3"
        },
        "language_info": {
            "codemirror_mode": {
                "name": "ipython",
                "version": 3
            },
            "file_extension": ".py",
            "mimetype": "text/x-python",
            "name": "python",
            "nbconvert_exporter": "python",
            "pygments_lexer": "ipython3",
            "version": "3.6.8"
        }
    },
    "nbformat": 4,
    "nbformat_minor": 1
}